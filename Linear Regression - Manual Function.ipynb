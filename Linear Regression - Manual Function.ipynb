{
 "cells": [
  {
   "cell_type": "code",
   "execution_count": 2,
   "metadata": {},
   "outputs": [],
   "source": [
    "import numpy as np\n",
    "import matplotlib.pyplot as plt"
   ]
  },
  {
   "cell_type": "code",
   "execution_count": 30,
   "metadata": {},
   "outputs": [],
   "source": [
    "\n",
    "class linear_regression(): #criando manualmente uma regressão linear\n",
    "\n",
    "    def __init__ (self,x, y):\n",
    "        self.x = x\n",
    "        self.y = y\n",
    "\n",
    "    def correlation(self): \n",
    "        #listas vazias para receber dados\n",
    "        xi_xm = [] \n",
    "        yi_ym = []\n",
    "        mult = []\n",
    "        for i in self.x:#variâncias de x\n",
    "            calc = i - np.mean(self.x)\n",
    "            xi_xm.append(calc)\n",
    "        for a in self.y:#variâncias de y\n",
    "            calc = a - np.mean(self.y)\n",
    "            yi_ym.append(calc)\n",
    "        for i, z in zip(xi_xm, yi_ym): # multiplicação das variâncias\n",
    "            calc = i * z\n",
    "            mult.append(calc)\n",
    "        #calculo de covariãncia -> soma das variâncias multiplicadas divida por n elementos\n",
    "        soma = np.sum(mult)/len(self.x)\n",
    "        #calculo de correlação -> cov(x, y)/std(x)*std(y)\n",
    "        correlation = soma/(np.std(self.x) * np.std(self.y))\n",
    "        return correlation\n",
    "\n",
    "    def beta_alpha(self, correlation):\n", #MQO calculo
    "        #beta -> corr(x, y) * std(x) / std(y)\n",
    "        #alpha -> media (y) - beta * media(x)\n",
    "        beta = (correlation * np.std(self.y)) / np.std(self.x)\n",
    "        alpha = np.mean(self.y) - beta * np.mean(self.x)\n",
    "        return beta, alpha\n",
    "    \n",
    "    def resid(self, alpha, beta):\n",
    "        #método para calcular resíduos criados quando se tentar inferir y dado valores de x \n",
    "        #pela função de regressão criada\n",
    "        residuals = []\n",
    "        data = self.x.copy()\n",
    "        y_pred = self.y.copy()\n",
    "        result = list(map(lambda x: alpha + beta * x, data ))\n",
    "        for i, j in zip(y_pred, result):\n",
    "            calc = i - j\n",
    "            residuals.append(calc)\n",
    "        return residuals\n",
    "    \n",
    "    def shapiro_resid(self, res):\n",
    "        #teste de shapiro dos resíduos\n",
    "        from scipy.stats import shapiro\n",
    "        estatistica, p_value = shapiro(res)\n",
    "        if p_value < 0.05:\n",
    "            print(f'Resultado de Shapiro:\\nEstatística: {estatistica:.2F}\\n Valor p_value: {p_value:.2F}\\nPortanto rejeitamos H0. Nossos resíduos não seguem uma distribuição normal')\n",
    "        else:\n",
    "            print(f'Resultado de Shapiro:\\nEstatística: {estatistica:.2F}\\nValor p_value: {p_value:.2F}\\nPortanto não temos evidências o suficente para rejeitamor H0 - Nossos resíduos fazem parte de uma distribuição normal')\n",
    "\n",
    "    def homocedasticidade(self, residuos):\n",
    "        #teste de homocedasticidade dos residuos\n",
    "        from statsmodels.stats.diagnostic import het_white\n",
    "        import statsmodels.api as sm\n",
    "        white_statistic, p_valor_white, _, _ = het_white(residuos, sm.add_constant(self.x))\n",
    "        print(f\"Teste de White (Breusch-Pagan) para Homocedasticidade:\\nEstatística de teste: {white_statistic}\\nValor-p: {p_valor_white}\")\n",
    "\n",
    "    def line_reg (self, alpha, beta):\n",
    "        #plot de gráfico da linha de regressão\n",
    "        dados = self.x.copy()\n",
    "        result = list(map(lambda x: alpha + beta * x, dados))\n",
    "        plt.plot(dados, result, color='r', linestyle='solid', label='Linha da regressão', linewidth = 1.)\n",
    "        plt.text(x = min(self.x), y = max(self.y) - 2,s = f'Regressão: f(y) = {beta:.2f}*x + {alpha:.2f}')\n",
    "\n",
    "    def r2 (self, alpha, beta):\n",
    "        #calculo do R2\n",
    "        vazio_1 = []\n",
    "        vazio_2 = []\n",
    "        dados = self.x.copy()\n",
    "        y = self.y.copy()\n",
    "        media = np.mean(y) #media de y\n",
    "        result = list(map(lambda x: alpha + beta * x, dados)) #previsão\n",
    "        for i, j in zip(y, result): #calculo SSE\n",
    "            calc = i - j\n",
    "            final = calc**2\n",
    "            vazio_1.append(final)\n",
    "        for i in y: #calculo SST\n",
    "            calc = i - media\n",
    "            final = calc**2\n",
    "            vazio_2.append(final)\n",
    "        r2 = 1 - (np.sum(vazio_1)/np.sum(vazio_2)) #calculo do R² 1 - (SSE/SST)\n",
    "        return r2\n",
    "    \n",
    "    def mae(self, alpha, beta):\n",
    "        abs_residuals = []\n",
    "        squared_residuals = []\n",
    "        dados = self.x.copy()\n",
    "        y = self.y.copy()\n",
    "        result = list(map(lambda x: alpha + beta * x, dados)) #previsão\n",
    "        for i, j in zip(y, result):\n",
    "            calc = j - i\n",
    "            abs_residuals.append(np.abs(calc))  # MAE: média dos resíduos absolutos\n",
    "            squared_residuals.append(calc**2)\n",
    "        mae = np.sum(abs_residuals) / len(self.x)\n",
    "        rmse = np.sqrt(np.sum(squared_residuals) / len(self.x))\n",
    "        return mae, rmse\n"
   ]
  },
  {
   "cell_type": "code",
   "execution_count": 21,
   "metadata": {},
   "outputs": [],
   "source": [
    "x = np.array([1,2,3,4,5])\n",
    "y = np.array([2,2.5,4.5,6.5,12])"
   ]
  },
  {
   "cell_type": "code",
   "execution_count": 22,
   "metadata": {},
   "outputs": [],
   "source": [
    "dados = linear_regression(x, y)\n",
    "corr = dados.correlation()\n",
    "beta, alpha = dados.beta_alpha(corr)\n",
    "residuos = dados.resid(alpha, beta)\n",
    "r2 = dados.r2(alpha, beta)*100"
   ]
  },
  {
   "cell_type": "code",
   "execution_count": 23,
   "metadata": {},
   "outputs": [
    {
     "name": "stdout",
     "output_type": "stream",
     "text": [
      "Resultado de Shapiro:\n",
      "Estatística: 0.87\n",
      "Valor p_value: 0.25\n",
      "Portanto não temos evidências o suficente para rejeitamor H0 - Nossos resíduos fazem parte de uma distribuição normal\n"
     ]
    }
   ],
   "source": [
    "shapiro = dados.shapiro_resid(residuos)"
   ]
  },
  {
   "cell_type": "code",
   "execution_count": 24,
   "metadata": {},
   "outputs": [
    {
     "name": "stdout",
     "output_type": "stream",
     "text": [
      "Teste de White (Breusch-Pagan) para Homocedasticidade:\n",
      "Estatística de teste: 4.4264309282971155\n",
      "Valor-p: 0.10934847651478906\n"
     ]
    }
   ],
   "source": [
    "dados.homocedasticidade(residuos)"
   ]
  },
  {
   "cell_type": "code",
   "execution_count": 25,
   "metadata": {},
   "outputs": [
    {
     "data": {
      "image/png": "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",
      "text/plain": [
       "<Figure size 800x400 with 1 Axes>"
      ]
     },
     "metadata": {},
     "output_type": "display_data"
    }
   ],
   "source": [
    "r2 = dados.r2(alpha, beta)*100\n",
    "fig, ax = plt.subplots(figsize=(8,4))\n",
    "ax.set_title('Regressão Linear', fontsize=15)\n",
    "ax.scatter(x, y, label='Dados')\n",
    "dados.line_reg(alpha, beta)\n",
    "ax.set_xlabel('Variável Independente', fontsize=10)\n",
    "ax.set_ylabel('Variável Dependente', fontsize=10)\n",
    "ax.spines['top'].set_visible(False)\n",
    "ax.spines['right'].set_visible(False)\n",
    "ax.text(x=min(x), y=max(y)-3, s=f'R²: {r2:.2F}')\n",
    "ax.legend(loc='lower right')\n",
    "plt.show()"
   ]
  },
  {
   "cell_type": "code",
   "execution_count": 29,
   "metadata": {},
   "outputs": [
    {
     "name": "stdout",
     "output_type": "stream",
     "text": [
      "MAE: 1.20\n",
      "RMSE: 1.26\n"
     ]
    }
   ],
   "source": [
    "mae, rmse = dados.mae(alpha, beta)\n",
    "print(f'MAE: {mae:.2F}\\nRMSE: {rmse:.2F}')"
   ]
  }
 ],
 "metadata": {
  "kernelspec": {
   "display_name": "base",
   "language": "python",
   "name": "python3"
  },
  "language_info": {
   "codemirror_mode": {
    "name": "ipython",
    "version": 3
   },
   "file_extension": ".py",
   "mimetype": "text/x-python",
   "name": "python",
   "nbconvert_exporter": "python",
   "pygments_lexer": "ipython3",
   "version": "3.11.5"
  }
 },
 "nbformat": 4,
 "nbformat_minor": 2
}
